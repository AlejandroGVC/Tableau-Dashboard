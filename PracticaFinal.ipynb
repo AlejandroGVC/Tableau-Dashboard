{
 "cells": [
  {
   "cell_type": "markdown",
   "id": "continuous-stream",
   "metadata": {},
   "source": [
    "### Práctica Final: Dashboard Tableau\n",
    "\n",
    "#### Limpieza y preparado de datos en python"
   ]
  },
  {
   "cell_type": "markdown",
   "id": "second-management",
   "metadata": {},
   "source": [
    "##### Fuente de datos 1: API idealista\n",
    "\n",
    "*Como perdí el acceso a la API, algunas funciones no funcionan, por eso estan comentadas."
   ]
  },
  {
   "cell_type": "markdown",
   "id": "permanent-lighter",
   "metadata": {},
   "source": [
    "1. Carga librerias "
   ]
  },
  {
   "cell_type": "code",
   "execution_count": 1,
   "id": "judicial-opportunity",
   "metadata": {},
   "outputs": [],
   "source": [
    "import pandas as pd\n",
    "import json\n",
    "import urllib\n",
    "import requests as rq\n",
    "import base64\n",
    "import seaborn as sns\n",
    "import matplotlib.pyplot as plt\n",
    "import urllib3\n",
    "from bs4 import BeautifulSoup\n",
    "import re "
   ]
  },
  {
   "cell_type": "markdown",
   "id": "supposed-sellers",
   "metadata": {},
   "source": [
    "2. Funciones que obtienen la información de la API de idealista y la transforman en un data frame"
   ]
  },
  {
   "cell_type": "code",
   "execution_count": null,
   "id": "alleged-weight",
   "metadata": {},
   "outputs": [],
   "source": [
    "def get_oauth_token(): \n",
    "    \n",
    "    # Esta función obtiene el token para acceder a la API de idealista usando unas credenciales,\n",
    "    # que ellos te proporcionan por email.\n",
    "\n",
    "    url = \"https://api.idealista.com/oauth/token\"    \n",
    "\n",
    "    apikey= 'yxhs13m871hwge1svh83fnbu68zlwbh6' #proporcionado por idealista \n",
    "    secret= 'Ud4Le6J6xUzv'#proporcionado por idealista \n",
    "    apikey_secret = apikey + ':' + secret\n",
    "    auth = str(base64.b64encode(bytes(apikey_secret, 'utf-8')))[2:][:-1]\n",
    "\n",
    "    headers = {'Authorization' : 'Basic ' + auth,\n",
    "               'Content-Type': 'application/x-www-form- urlencoded;charset=UTF-8'}\n",
    "    params = urllib.parse.urlencode({'grant_type':'client_credentials'}) \n",
    "    content = rq.post(url,headers = headers, params=params)\n",
    "    bearer_token = json.loads(content.text)['access_token']\n",
    "\n",
    "    return bearer_token\n",
    "\n",
    "\n",
    "def search_api(token, url):  \n",
    "    \n",
    "    # Esta función obtiene la conexión a la API pasandole como parámetros el token obtenido en \n",
    "    # get_oauth_token y la url en cuestión. \n",
    "    \n",
    "    headers = {'Content-Type': 'Content-Type: multipart/form-data;', 'Authorization' : 'Bearer ' + token}\n",
    "    content = rq.post(url, headers = headers)\n",
    "    result = json.loads(content.text)\n",
    "\n",
    "    return result\n",
    "\n",
    "#parametros \n",
    "country = 'es' \n",
    "locale = 'es' \n",
    "language = 'es' \n",
    "max_items = '50'\n",
    "#operation = 'sale' o 'rent'\n",
    "property_type = 'homes'\n",
    "order = 'priceDown' \n",
    "center = '40.4209832,-3.8196207' #MADRID \n",
    "distance = '60000'\n",
    "sort = 'desc'\n",
    "bankOffer = 'false'\n",
    "\n",
    "\n",
    "def get_dataframe(operation):\n",
    "    \n",
    "    # Esta función transforma la información obtenida de la API en una dataframe para \n",
    "    # el análisis. (*Idealista solo permite un máximo de \n",
    "    # 50 items por petición y 100 peticiones al mes por el mismo usuario)\n",
    "    \n",
    "    df_tot = pd.DataFrame()\n",
    "    limit = 10\n",
    "    \n",
    "    for i in range(1,limit):\n",
    "        url = ('https://api.idealista.com/3.5/'+country+'/search?operation='+operation+\"&locale=\"+locale+\n",
    "               '&maxItems='+max_items+\n",
    "               '&order='+order+\n",
    "               '&center='+center+\n",
    "               '&distance='+distance+\n",
    "               '&propertyType='+property_type+\n",
    "               '&sort='+sort+ \n",
    "               '&numPage=%s'+\n",
    "               '&language='+language) % (i)  \n",
    "        a = search_api(get_oauth_token(), url)\n",
    "        df = pd.DataFrame.from_dict(a['elementList'])\n",
    "        df_tot = pd.concat([df_tot,df])\n",
    "    \n",
    "    df_tot = df_tot.reset_index()\n",
    "    df_tot = df_tot[['propertyCode','price', 'size', 'operation', 'rooms', 'bathrooms', \n",
    "                         'address', 'province', 'municipality', 'district', 'latitude', \n",
    "                         'longitude', 'priceByArea']]\n",
    "    return df_tot\n",
    "\n",
    "\n",
    "#token = get_oauth_token()\n",
    "#url = \"https://api.idealista.com/oauth/token\"    \n",
    "#search_api(token, url) ###### YA NO FUNCIONA PORQUE PERDI EL ACCESO A LA API DE IDEALISTA ######\n",
    "#df_tot_ven = get_dataframe(operation = 'sale')\n",
    "#df_tot_alq = get_dataframe(operation = 'rent')"
   ]
  },
  {
   "cell_type": "markdown",
   "id": "statistical-riverside",
   "metadata": {},
   "source": [
    "3. Paso de los data frame a un output en formato excel"
   ]
  },
  {
   "cell_type": "code",
   "execution_count": null,
   "id": "higher-approach",
   "metadata": {},
   "outputs": [],
   "source": [
    "#df_tot_ven = get_dataframe(operation = 'sale')\n",
    "#df_tot_alq = get_dataframe(operation = 'rent')\n",
    "#with pd.ExcelWriter('dat/output.xlsx') as writer:  \n",
    "#    df_tot_ven.to_excel(writer, sheet_name='venta')\n",
    "#    df_tot_alq.to_excel(writer, sheet_name='alquiler') "
   ]
  },
  {
   "cell_type": "markdown",
   "id": "medical-scholarship",
   "metadata": {},
   "source": [
    "* 4. Vuelvo a cargar los datos para introducir una nueva modificación y los exporto de nuevo a excel.\n",
    "\n",
    "(como adjunto el docuemento **output.xlsx** creado cuando tenia acceso a la API, esta función si debería funcionar."
   ]
  },
  {
   "cell_type": "code",
   "execution_count": null,
   "id": "novel-greenhouse",
   "metadata": {},
   "outputs": [],
   "source": [
    "def load_data():\n",
    "    # Carga los datos, hace unas transformaciones y vuevle a exportar a excel\n",
    "    \n",
    "    # lectura de los datos \n",
    "    df_tot_ven = pd.read_excel('dat/output.xlsx', sheet_name = 'venta', index_col = 0)\n",
    "    df_tot_alq = pd.read_excel('dat/output.xlsx', sheet_name = 'alquiler', index_col = 0)\n",
    "    # calculo del precio medio por distritos\n",
    "    precio_ven = df_tot_ven.groupby(by = ['District']).mean('Price')['Price'].reset_index()\n",
    "    precio_alq = df_tot_alq.groupby(by = ['District']).mean('Price')['Price'].reset_index()\n",
    "    # merge entre ambos dataframes para obtener uno con el precio medio \n",
    "    # de alquiler y venta por distritos\n",
    "    precio_diff = precio_alq.merge(precio_ven, how = 'inner', \n",
    "                                   on = 'District', \n",
    "                                   suffixes=('_alq', '_ven'))\n",
    "    # calculo de una nueva variable que nos de la rentabilidad anual de cada distrito\n",
    "    precio_diff['rent'] = ((precio_diff['Price_alq'] * 12) / precio_diff['Price_ven'] ) * 100\n",
    "    # exportacion a excel\n",
    "    with pd.ExcelWriter('dat/output.xlsx') as writer:  \n",
    "        df_tot_ven.to_excel(writer, sheet_name='venta')\n",
    "        df_tot_alq.to_excel(writer, sheet_name='alquiler')\n",
    "        precio_diff.to_excel(writer, sheet_name='rentabilidad')\n",
    "\n",
    "load_data()"
   ]
  },
  {
   "cell_type": "markdown",
   "id": "heard-multiple",
   "metadata": {},
   "source": [
    "##### Fuente de datos 2: Serie temporal del INE."
   ]
  },
  {
   "cell_type": "code",
   "execution_count": 3,
   "id": "liable-musician",
   "metadata": {},
   "outputs": [],
   "source": [
    "def format_datetime(dataframe):\n",
    "    # Carga datos, tranforma la fecha y exporta a excel\n",
    "    # Cargo datos del csv\n",
    "    trend = pd.read_csv('dat/trend.csv', sep = ';')\n",
    "    \n",
    "    # Transformo la variable trimestral para que pueda ser leida como formato fecha\n",
    "    new = dataframe['Periodo'].str.split('T', n = 1, expand = True)\n",
    "    dataframe['Anio'] = new[0]\n",
    "    dataframe['Trimestre'] = new[1] \n",
    "    dataframe.drop(columns = ['Periodo'], inplace = True)\n",
    "    dataframe['Trimestre'].replace({'4':'/10/01', \n",
    "                                    '3':'/07/01',\n",
    "                                    '2':'/04/01',\n",
    "                                    '1':'/01/01'}, inplace = True)\n",
    "    dataframe['Fecha'] = dataframe['Anio'] + dataframe['Trimestre']\n",
    "    dataframe['Fecha'] = pd.to_datetime(trend['Fecha'])\n",
    "    dataframe.drop(columns = ['Anio', 'Trimestre'], inplace = True)\n",
    "    \n",
    "    # Los exporto a excel\n",
    "    trend.to_excel('dat/trend.xlsx', index = False)\n",
    "    \n",
    "    \n",
    "format_datetime(trend)"
   ]
  },
  {
   "cell_type": "code",
   "execution_count": null,
   "id": "average-desert",
   "metadata": {},
   "outputs": [],
   "source": []
  }
 ],
 "metadata": {
  "kernelspec": {
   "display_name": "Python 3",
   "language": "python",
   "name": "python3"
  },
  "language_info": {
   "codemirror_mode": {
    "name": "ipython",
    "version": 3
   },
   "file_extension": ".py",
   "mimetype": "text/x-python",
   "name": "python",
   "nbconvert_exporter": "python",
   "pygments_lexer": "ipython3",
   "version": "3.8.5"
  }
 },
 "nbformat": 4,
 "nbformat_minor": 5
}
